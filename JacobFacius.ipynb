{
 "cells": [
  {
   "cell_type": "markdown",
   "id": "98ec4aae",
   "metadata": {},
   "source": [
    "# My Jupyter Notebook on IBM Watson Studio"
   ]
  },
  {
   "cell_type": "markdown",
   "id": "8046bc7b",
   "metadata": {},
   "source": [
    "**Jacob Facius** </br> I want to be a Data Scientist"
   ]
  },
  {
   "cell_type": "markdown",
   "id": "4aad6003",
   "metadata": {},
   "source": [
    "*I am interested in data science because I want to predict outcomes*"
   ]
  },
  {
   "cell_type": "markdown",
   "id": "4b086e34",
   "metadata": {},
   "source": [
    "### My code should calculate the mean of three Scores"
   ]
  },
  {
   "cell_type": "code",
   "execution_count": 5,
   "id": "1ebd1328",
   "metadata": {},
   "outputs": [
    {
     "data": {
      "text/plain": [
       "5.666666666666667"
      ]
     },
     "execution_count": 5,
     "metadata": {},
     "output_type": "execute_result"
    }
   ],
   "source": [
    "(4+5+8)/3"
   ]
  },
  {
   "cell_type": "markdown",
   "id": "d9ba61c8",
   "metadata": {},
   "source": [
    "An inline link looks like this: [Google](https://www.google.com)  </br>\n",
    "My calculation is `(4+5+8)/3` </br>\n",
    "<center>\n",
    "    <img src=\"https://cf-courses-data.s3.us.cloud-object-storage.appdomain.cloud/IBMDeveloperSkillsNetwork-DS0105EN-SkillsNetwork/labs/Module2/images/SN_web_lightmode.png\" width=\"300\" alt=\"cognitiveclass.ai logo\">\n",
    "</center>\n"
   ]
  }
 ],
 "metadata": {
  "kernelspec": {
   "display_name": "Python 3 (ipykernel)",
   "language": "python",
   "name": "python3"
  },
  "language_info": {
   "codemirror_mode": {
    "name": "ipython",
    "version": 3
   },
   "file_extension": ".py",
   "mimetype": "text/x-python",
   "name": "python",
   "nbconvert_exporter": "python",
   "pygments_lexer": "ipython3",
   "version": "3.9.13"
  }
 },
 "nbformat": 4,
 "nbformat_minor": 5
}
